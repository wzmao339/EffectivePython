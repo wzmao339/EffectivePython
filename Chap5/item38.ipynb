{
 "cells": [
  {
   "cell_type": "markdown",
   "metadata": {
    "collapsed": true,
    "pycharm": {
     "name": "#%% md\n"
    }
   },
   "source": [
    "Item 38: Accept functions instead of classes for simple interfaces.\n",
    "\n",
    "Task: Desing a hook that logs each time a key is missing and returns 0 for the default\n",
    "value in collections.defaultdict."
   ]
  },
  {
   "cell_type": "code",
   "execution_count": 2,
   "outputs": [],
   "source": [
    "from collections import defaultdict\n",
    "\n",
    "current = {'Subie': 10, 'Pang': 12}\n",
    "increment = [('Subie', 2), ('Miao', 8), ('Bao', 20)]"
   ],
   "metadata": {
    "collapsed": false,
    "pycharm": {
     "name": "#%%\n"
    }
   }
  },
  {
   "cell_type": "markdown",
   "source": [
    "Print 'Key added' every time a missing key is accessed."
   ],
   "metadata": {
    "collapsed": false,
    "pycharm": {
     "name": "#%% md\n"
    }
   }
  },
  {
   "cell_type": "code",
   "execution_count": 5,
   "outputs": [
    {
     "name": "stdout",
     "output_type": "stream",
     "text": [
      "Key added\n",
      "Key added\n"
     ]
    }
   ],
   "source": [
    "def log_missing():\n",
    "    print('Key added')\n",
    "    return 0\n",
    "\n",
    "d = defaultdict(log_missing, current)\n",
    "for key, val in increment:\n",
    "    d[key] += val\n"
   ],
   "metadata": {
    "collapsed": false,
    "pycharm": {
     "name": "#%%\n"
    }
   }
  },
  {
   "cell_type": "markdown",
   "source": [
    "Count the number of new keys being accessed.\n",
    "\n",
    "Approach 1) Using stateful closure"
   ],
   "metadata": {
    "collapsed": false,
    "pycharm": {
     "name": "#%% md\n"
    }
   }
  },
  {
   "cell_type": "code",
   "execution_count": 7,
   "outputs": [
    {
     "name": "stdout",
     "output_type": "stream",
     "text": [
      "2\n"
     ]
    }
   ],
   "source": [
    "def add_and_count(current, increment):\n",
    "    count = 0\n",
    "\n",
    "    def count_missing():\n",
    "        nonlocal count\n",
    "        count += 1\n",
    "        return 0\n",
    "\n",
    "    d = defaultdict(count_missing, current)\n",
    "    for key, val in increment:\n",
    "        d[key] += val\n",
    "\n",
    "    return d, count\n",
    "\n",
    "d, count = add_and_count(current, increment)\n",
    "print(count)"
   ],
   "metadata": {
    "collapsed": false,
    "pycharm": {
     "name": "#%%\n"
    }
   }
  },
  {
   "cell_type": "markdown",
   "source": [
    "Approach 2) Using class."
   ],
   "metadata": {
    "collapsed": false,
    "pycharm": {
     "name": "#%% md\n"
    }
   }
  },
  {
   "cell_type": "code",
   "execution_count": 9,
   "outputs": [
    {
     "name": "stdout",
     "output_type": "stream",
     "text": [
      "2\n"
     ]
    }
   ],
   "source": [
    "class CountMissing:\n",
    "    def __init__(self):\n",
    "        self.count = 0\n",
    "    def missing(self):\n",
    "        self.count += 1\n",
    "        return 0\n",
    "\n",
    "counter = CountMissing()\n",
    "d = defaultdict(counter.missing, current)\n",
    "for key, val in increment:\n",
    "    d[key] += val\n",
    "print(counter.count)"
   ],
   "metadata": {
    "collapsed": false,
    "pycharm": {
     "name": "#%%\n"
    }
   }
  },
  {
   "cell_type": "markdown",
   "source": [
    "Approach 3) Using \"__call__\" method."
   ],
   "metadata": {
    "collapsed": false,
    "pycharm": {
     "name": "#%% md\n"
    }
   }
  },
  {
   "cell_type": "code",
   "execution_count": 10,
   "outputs": [
    {
     "name": "stdout",
     "output_type": "stream",
     "text": [
      "2\n"
     ]
    }
   ],
   "source": [
    "class BetterCountMissing:\n",
    "    def __init__(self):\n",
    "        self.count = 0\n",
    "    def __call__(self):\n",
    "        self.count += 1\n",
    "        return 0\n",
    "\n",
    "counter = BetterCountMissing()\n",
    "d = defaultdict(counter, current)\n",
    "for key, val in increment:\n",
    "    d[key] += val\n",
    "print(counter.count)\n"
   ],
   "metadata": {
    "collapsed": false,
    "pycharm": {
     "name": "#%%\n"
    }
   }
  }
 ],
 "metadata": {
  "kernelspec": {
   "display_name": "Python 3",
   "language": "python",
   "name": "python3"
  },
  "language_info": {
   "codemirror_mode": {
    "name": "ipython",
    "version": 2
   },
   "file_extension": ".py",
   "mimetype": "text/x-python",
   "name": "python",
   "nbconvert_exporter": "python",
   "pygments_lexer": "ipython2",
   "version": "2.7.6"
  }
 },
 "nbformat": 4,
 "nbformat_minor": 0
}